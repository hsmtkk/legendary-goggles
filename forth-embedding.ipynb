{
 "cells": [
  {
   "cell_type": "code",
   "execution_count": 1,
   "id": "ecd73012-53d3-49bf-bea0-2c9e65df541d",
   "metadata": {},
   "outputs": [],
   "source": [
    "%load_ext dotenv\n",
    "%dotenv"
   ]
  },
  {
   "cell_type": "code",
   "execution_count": 4,
   "id": "1dbbe363-6c7b-4918-bfe1-a7d04d7ddcea",
   "metadata": {},
   "outputs": [],
   "source": [
    "from langchain_openai import OpenAIEmbeddings"
   ]
  },
  {
   "cell_type": "code",
   "execution_count": 5,
   "id": "2f29fff7-df1c-4b5b-b46c-ec1c8c00c998",
   "metadata": {},
   "outputs": [],
   "source": [
    "embed = OpenAIEmbeddings()"
   ]
  },
  {
   "cell_type": "code",
   "execution_count": 7,
   "id": "6885bfda-f2fc-4d62-aefb-7229316cb53f",
   "metadata": {},
   "outputs": [],
   "source": [
    "our_text = \"Hey buddy\""
   ]
  },
  {
   "cell_type": "code",
   "execution_count": 9,
   "id": "9d8d43cc-40ae-4738-a3bd-75f15fe3cce1",
   "metadata": {},
   "outputs": [],
   "source": [
    "vector = embed.embed_query(our_text)"
   ]
  },
  {
   "cell_type": "code",
   "execution_count": 10,
   "id": "bc195af5-78a7-4b29-862f-cf0bdcc9ad6a",
   "metadata": {},
   "outputs": [
    {
     "data": {
      "text/plain": [
       "1536"
      ]
     },
     "execution_count": 10,
     "metadata": {},
     "output_type": "execute_result"
    }
   ],
   "source": [
    "len(vector)"
   ]
  },
  {
   "cell_type": "code",
   "execution_count": null,
   "id": "d774a643-8723-4262-87c4-025d8965c4c3",
   "metadata": {},
   "outputs": [],
   "source": []
  }
 ],
 "metadata": {
  "kernelspec": {
   "display_name": "Python 3 (ipykernel)",
   "language": "python",
   "name": "python3"
  },
  "language_info": {
   "codemirror_mode": {
    "name": "ipython",
    "version": 3
   },
   "file_extension": ".py",
   "mimetype": "text/x-python",
   "name": "python",
   "nbconvert_exporter": "python",
   "pygments_lexer": "ipython3",
   "version": "3.11.7"
  }
 },
 "nbformat": 4,
 "nbformat_minor": 5
}
