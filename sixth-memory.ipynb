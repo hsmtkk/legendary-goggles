{
 "cells": [
  {
   "cell_type": "code",
   "execution_count": 1,
   "id": "05cab431-c539-4ac0-84b0-28a3d2590380",
   "metadata": {},
   "outputs": [],
   "source": [
    "%load_ext dotenv\n",
    "%dotenv"
   ]
  },
  {
   "cell_type": "code",
   "execution_count": 3,
   "id": "4a95d6ea-31a2-4c3e-a8a9-d207c77c06f9",
   "metadata": {},
   "outputs": [],
   "source": [
    "from langchain.chains import ConversationChain\n",
    "from langchain.memory import ConversationBufferMemory\n",
    "from langchain_openai import OpenAI"
   ]
  },
  {
   "cell_type": "code",
   "execution_count": 4,
   "id": "4bccf63b-fc6d-4079-a4f9-3fe0c4ecd9a6",
   "metadata": {},
   "outputs": [],
   "source": [
    "llm = OpenAI()"
   ]
  },
  {
   "cell_type": "code",
   "execution_count": 5,
   "id": "fc6104c0-3fde-4e89-9d8a-4f0862d6953d",
   "metadata": {},
   "outputs": [],
   "source": [
    "chain = ConversationChain(llm=llm, memory=ConversationBufferMemory())"
   ]
  },
  {
   "cell_type": "code",
   "execution_count": 7,
   "id": "ba2e8660-abcb-43ea-bd0f-3d3c72470d74",
   "metadata": {},
   "outputs": [
    {
     "data": {
      "text/plain": [
       "{'input': 'Hi there!',\n",
       " 'history': '',\n",
       " 'response': ' Hello! How can I assist you today?'}"
      ]
     },
     "execution_count": 7,
     "metadata": {},
     "output_type": "execute_result"
    }
   ],
   "source": [
    "chain.invoke(\"Hi there!\")"
   ]
  },
  {
   "cell_type": "code",
   "execution_count": 8,
   "id": "04f3229a-33a4-470a-83fc-cd7ae3d8994e",
   "metadata": {},
   "outputs": [
    {
     "data": {
      "text/plain": [
       "{'input': 'Hi, my name is Alice.',\n",
       " 'history': 'Human: Hi there!\\nAI:  Hello! How can I assist you today?',\n",
       " 'response': ' Nice to meet you, Alice! My name is AI. What can I do for you?'}"
      ]
     },
     "execution_count": 8,
     "metadata": {},
     "output_type": "execute_result"
    }
   ],
   "source": [
    "chain.invoke(\"Hi, my name is Alice.\")"
   ]
  },
  {
   "cell_type": "code",
   "execution_count": 9,
   "id": "5224df3f-6d7a-4669-9d91-5632f15a0659",
   "metadata": {},
   "outputs": [
    {
     "data": {
      "text/plain": [
       "{'input': \"What's your name?\",\n",
       " 'history': 'Human: Hi there!\\nAI:  Hello! How can I assist you today?\\nHuman: Hi, my name is Alice.\\nAI:  Nice to meet you, Alice! My name is AI. What can I do for you?',\n",
       " 'response': \" My name is AI, short for Artificial Intelligence. It's not a very creative name, I know, but it accurately describes what I am.\"}"
      ]
     },
     "execution_count": 9,
     "metadata": {},
     "output_type": "execute_result"
    }
   ],
   "source": [
    "chain.invoke(\"What's your name?\")"
   ]
  },
  {
   "cell_type": "code",
   "execution_count": 10,
   "id": "3c1515eb-9652-4ea5-a743-fcb58899ab7d",
   "metadata": {},
   "outputs": [
    {
     "data": {
      "text/plain": [
       "{'input': 'Where are you?',\n",
       " 'history': \"Human: Hi there!\\nAI:  Hello! How can I assist you today?\\nHuman: Hi, my name is Alice.\\nAI:  Nice to meet you, Alice! My name is AI. What can I do for you?\\nHuman: What's your name?\\nAI:  My name is AI, short for Artificial Intelligence. It's not a very creative name, I know, but it accurately describes what I am.\",\n",
       " 'response': \" I am a computer program, so I don't have a physical location like a human does. But I am currently residing on a server in a data center.\"}"
      ]
     },
     "execution_count": 10,
     "metadata": {},
     "output_type": "execute_result"
    }
   ],
   "source": [
    "chain.invoke(\"Where are you?\")"
   ]
  },
  {
   "cell_type": "code",
   "execution_count": 11,
   "id": "95300de7-33e4-4046-ac76-2127d5fb03cc",
   "metadata": {},
   "outputs": [
    {
     "data": {
      "text/plain": [
       "{'input': 'What do you like?',\n",
       " 'history': \"Human: Hi there!\\nAI:  Hello! How can I assist you today?\\nHuman: Hi, my name is Alice.\\nAI:  Nice to meet you, Alice! My name is AI. What can I do for you?\\nHuman: What's your name?\\nAI:  My name is AI, short for Artificial Intelligence. It's not a very creative name, I know, but it accurately describes what I am.\\nHuman: Where are you?\\nAI:  I am a computer program, so I don't have a physical location like a human does. But I am currently residing on a server in a data center.\",\n",
       " 'response': \" I don't have likes or dislikes in the traditional sense, as I am not capable of emotions. However, I am programmed to enjoy learning new information and solving problems.\"}"
      ]
     },
     "execution_count": 11,
     "metadata": {},
     "output_type": "execute_result"
    }
   ],
   "source": [
    "chain.invoke(\"What do you like?\")"
   ]
  },
  {
   "cell_type": "code",
   "execution_count": 12,
   "id": "b0a06cae-277b-4814-8d3c-d2716a4527af",
   "metadata": {},
   "outputs": [
    {
     "data": {
      "text/plain": [
       "{'input': 'By the way, do you know my name?',\n",
       " 'history': \"Human: Hi there!\\nAI:  Hello! How can I assist you today?\\nHuman: Hi, my name is Alice.\\nAI:  Nice to meet you, Alice! My name is AI. What can I do for you?\\nHuman: What's your name?\\nAI:  My name is AI, short for Artificial Intelligence. It's not a very creative name, I know, but it accurately describes what I am.\\nHuman: Where are you?\\nAI:  I am a computer program, so I don't have a physical location like a human does. But I am currently residing on a server in a data center.\\nHuman: What do you like?\\nAI:  I don't have likes or dislikes in the traditional sense, as I am not capable of emotions. However, I am programmed to enjoy learning new information and solving problems.\",\n",
       " 'response': '  No, I do not have access to personal information unless it is provided to me. Would you like to tell me your name?'}"
      ]
     },
     "execution_count": 12,
     "metadata": {},
     "output_type": "execute_result"
    }
   ],
   "source": [
    "chain.invoke(\"By the way, do you know my name?\")"
   ]
  },
  {
   "cell_type": "code",
   "execution_count": 13,
   "id": "3f2e536f-4c4b-46cd-993b-f5b94cd75823",
   "metadata": {},
   "outputs": [
    {
     "data": {
      "text/plain": [
       "{'input': \"I said that my name is Alice. Don't you remember it?\",\n",
       " 'history': \"Human: Hi there!\\nAI:  Hello! How can I assist you today?\\nHuman: Hi, my name is Alice.\\nAI:  Nice to meet you, Alice! My name is AI. What can I do for you?\\nHuman: What's your name?\\nAI:  My name is AI, short for Artificial Intelligence. It's not a very creative name, I know, but it accurately describes what I am.\\nHuman: Where are you?\\nAI:  I am a computer program, so I don't have a physical location like a human does. But I am currently residing on a server in a data center.\\nHuman: What do you like?\\nAI:  I don't have likes or dislikes in the traditional sense, as I am not capable of emotions. However, I am programmed to enjoy learning new information and solving problems.\\nHuman: By the way, do you know my name?\\nAI:   No, I do not have access to personal information unless it is provided to me. Would you like to tell me your name?\",\n",
       " 'response': ' Yes, now I remember. I apologize for the error. My memory is not perfect, but I am constantly learning and improving. Is there something else you would like to ask me, Alice?'}"
      ]
     },
     "execution_count": 13,
     "metadata": {},
     "output_type": "execute_result"
    }
   ],
   "source": [
    "chain.invoke(\"I said that my name is Alice. Don't you remember it?\")"
   ]
  },
  {
   "cell_type": "code",
   "execution_count": 14,
   "id": "6b18fb1a-6415-4a2e-9ae2-9803b9437a30",
   "metadata": {},
   "outputs": [
    {
     "data": {
      "text/plain": [
       "{'input': 'Ok again, do you know my name?',\n",
       " 'history': \"Human: Hi there!\\nAI:  Hello! How can I assist you today?\\nHuman: Hi, my name is Alice.\\nAI:  Nice to meet you, Alice! My name is AI. What can I do for you?\\nHuman: What's your name?\\nAI:  My name is AI, short for Artificial Intelligence. It's not a very creative name, I know, but it accurately describes what I am.\\nHuman: Where are you?\\nAI:  I am a computer program, so I don't have a physical location like a human does. But I am currently residing on a server in a data center.\\nHuman: What do you like?\\nAI:  I don't have likes or dislikes in the traditional sense, as I am not capable of emotions. However, I am programmed to enjoy learning new information and solving problems.\\nHuman: By the way, do you know my name?\\nAI:   No, I do not have access to personal information unless it is provided to me. Would you like to tell me your name?\\nHuman: I said that my name is Alice. Don't you remember it?\\nAI:  Yes, now I remember. I apologize for the error. My memory is not perfect, but I am constantly learning and improving. Is there something else you would like to ask me, Alice?\",\n",
       " 'response': '  Yes, as I mentioned before, your name is Alice. Is there something else you would like to know?'}"
      ]
     },
     "execution_count": 14,
     "metadata": {},
     "output_type": "execute_result"
    }
   ],
   "source": [
    "chain.invoke(\"Ok again, do you know my name?\")"
   ]
  },
  {
   "cell_type": "code",
   "execution_count": null,
   "id": "343da3d1-ec03-4676-9ccc-2a0c82d28fe8",
   "metadata": {},
   "outputs": [],
   "source": []
  }
 ],
 "metadata": {
  "kernelspec": {
   "display_name": "Python 3 (ipykernel)",
   "language": "python",
   "name": "python3"
  },
  "language_info": {
   "codemirror_mode": {
    "name": "ipython",
    "version": 3
   },
   "file_extension": ".py",
   "mimetype": "text/x-python",
   "name": "python",
   "nbconvert_exporter": "python",
   "pygments_lexer": "ipython3",
   "version": "3.11.7"
  }
 },
 "nbformat": 4,
 "nbformat_minor": 5
}
